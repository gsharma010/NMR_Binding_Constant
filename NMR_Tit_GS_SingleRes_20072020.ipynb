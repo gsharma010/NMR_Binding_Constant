{
 "cells": [
  {
   "cell_type": "code",
   "execution_count": 1,
   "metadata": {
    "scrolled": true
   },
   "outputs": [
    {
     "name": "stdout",
     "output_type": "stream",
     "text": [
      "\u001b[32m\u001b[1m  Updating\u001b[22m\u001b[39m registry at `~/.julia/registries/General`\n",
      "\u001b[32m\u001b[1m  Updating\u001b[22m\u001b[39m git-repo `https://github.com/JuliaRegistries/General.git`\n",
      "\u001b[?25l\u001b[2K\u001b[?25h\u001b[32m\u001b[1m Resolving\u001b[22m\u001b[39m package versions...\n",
      "\u001b[32m\u001b[1m  Updating\u001b[22m\u001b[39m `~/.julia/environments/v1.2/Project.toml`\n",
      "\u001b[90m [no changes]\u001b[39m\n",
      "\u001b[32m\u001b[1m  Updating\u001b[22m\u001b[39m `~/.julia/environments/v1.2/Manifest.toml`\n",
      "\u001b[90m [no changes]\u001b[39m\n",
      "\u001b[32m\u001b[1m Resolving\u001b[22m\u001b[39m package versions...\n",
      "\u001b[32m\u001b[1m  Updating\u001b[22m\u001b[39m `~/.julia/environments/v1.2/Project.toml`\n",
      "\u001b[90m [no changes]\u001b[39m\n",
      "\u001b[32m\u001b[1m  Updating\u001b[22m\u001b[39m `~/.julia/environments/v1.2/Manifest.toml`\n",
      "\u001b[90m [no changes]\u001b[39m\n",
      "\u001b[32m\u001b[1m Resolving\u001b[22m\u001b[39m package versions...\n",
      "\u001b[32m\u001b[1m  Updating\u001b[22m\u001b[39m `~/.julia/environments/v1.2/Project.toml`\n",
      "\u001b[90m [no changes]\u001b[39m\n",
      "\u001b[32m\u001b[1m  Updating\u001b[22m\u001b[39m `~/.julia/environments/v1.2/Manifest.toml`\n",
      "\u001b[90m [no changes]\u001b[39m\n",
      "\u001b[32m\u001b[1m Resolving\u001b[22m\u001b[39m package versions...\n",
      "\u001b[32m\u001b[1m  Updating\u001b[22m\u001b[39m `~/.julia/environments/v1.2/Project.toml`\n",
      "\u001b[90m [no changes]\u001b[39m\n",
      "\u001b[32m\u001b[1m  Updating\u001b[22m\u001b[39m `~/.julia/environments/v1.2/Manifest.toml`\n",
      "\u001b[90m [no changes]\u001b[39m\n",
      "\u001b[32m\u001b[1m Resolving\u001b[22m\u001b[39m package versions...\n",
      "\u001b[32m\u001b[1m  Updating\u001b[22m\u001b[39m `~/.julia/environments/v1.2/Project.toml`\n",
      "\u001b[90m [no changes]\u001b[39m\n",
      "\u001b[32m\u001b[1m  Updating\u001b[22m\u001b[39m `~/.julia/environments/v1.2/Manifest.toml`\n",
      "\u001b[90m [no changes]\u001b[39m\n",
      "\u001b[32m\u001b[1m Resolving\u001b[22m\u001b[39m package versions...\n",
      "\u001b[32m\u001b[1m  Updating\u001b[22m\u001b[39m `~/.julia/environments/v1.2/Project.toml`\n",
      "\u001b[90m [no changes]\u001b[39m\n",
      "\u001b[32m\u001b[1m  Updating\u001b[22m\u001b[39m `~/.julia/environments/v1.2/Manifest.toml`\n",
      "\u001b[90m [no changes]\u001b[39m\n",
      "\u001b[32m\u001b[1m Resolving\u001b[22m\u001b[39m package versions...\n",
      "\u001b[32m\u001b[1m  Updating\u001b[22m\u001b[39m `~/.julia/environments/v1.2/Project.toml`\n",
      "\u001b[90m [no changes]\u001b[39m\n",
      "\u001b[32m\u001b[1m  Updating\u001b[22m\u001b[39m `~/.julia/environments/v1.2/Manifest.toml`\n",
      "\u001b[90m [no changes]\u001b[39m\n"
     ]
    },
    {
     "name": "stderr",
     "output_type": "stream",
     "text": [
      "┌ Info: Loading DataFrames support into Gadfly.jl\n",
      "└ @ Gadfly /Users/s4456289/.julia/packages/Gadfly/09PWZ/src/mapping.jl:228\n"
     ]
    }
   ],
   "source": [
    "using Pkg\n",
    "Pkg.add(\"DelimitedFiles\")\n",
    "Pkg.add(\"Random\")\n",
    "Pkg.add(\"LsqFit\")\n",
    "Pkg.add(\"CSV\")\n",
    "Pkg.add(\"Distributions\")\n",
    "Pkg.add(\"Plots\")\n",
    "Pkg.add(\"Gadfly\")\n",
    "using Random, CSV, DelimitedFiles, LsqFit, Distributions, Plots, Gadfly"
   ]
  },
  {
   "cell_type": "code",
   "execution_count": 2,
   "metadata": {},
   "outputs": [
    {
     "data": {
      "text/html": [
       "<table class=\"data-frame\"><thead><tr><th></th><th>Column1</th><th>Pn3a only</th><th>Column3</th><th>Column4</th><th>Column5</th><th>Pn3a and nanodisc 0.02</th></tr><tr><th></th><th>String</th><th>String</th><th>String</th><th>String</th><th>String</th><th>String</th></tr></thead><tbody><p>35 rows × 21 columns (omitted printing of 15 columns)</p><tr><th>1</th><td>Assignment</td><td>w1a</td><td>w2a</td><td>Height</td><td>Volume</td><td>w1a</td></tr><tr><th>2</th><td>A.2.ASP.H</td><td>7.606715155</td><td>120.5978691</td><td>64950712</td><td>None</td><td>7.600852883</td></tr><tr><th>3</th><td>A.3.CYS.H</td><td>8.236653476</td><td>118.297523</td><td>60657504</td><td>None</td><td>8.230251984</td></tr><tr><th>4</th><td>A.4.ARG.H</td><td>8.759817177</td><td>120.9770972</td><td>37220176</td><td>None</td><td>8.756704678</td></tr><tr><th>5</th><td>A.5.TYR.H</td><td>8.075478958</td><td>120.0486769</td><td>30957758</td><td>None</td><td>8.072959357</td></tr><tr><th>6</th><td>A.6.MET.H</td><td>7.618484737</td><td>119.1691744</td><td>30304996</td><td>None</td><td>7.610821253</td></tr><tr><th>7</th><td>A.7.PHE.H</td><td>8.901671221</td><td>120.6776159</td><td>29182366</td><td>None</td><td>8.898382228</td></tr><tr><th>8</th><td>A.8.GLY.H</td><td>8.898855353</td><td>110.1462503</td><td>19320248</td><td>156607495</td><td>8.893383802</td></tr><tr><th>9</th><td>A.9.ASP.H</td><td>8.311142143</td><td>122.0028218</td><td>41584300</td><td>331071502</td><td>8.305844895</td></tr><tr><th>10</th><td>A.10.CYS.H</td><td>7.669821554</td><td>113.1917275</td><td>37616744</td><td>None</td><td>7.663544703</td></tr><tr><th>11</th><td>A.11.GLU.H</td><td>9.200653267</td><td>116.143728</td><td>45560916</td><td>None</td><td>9.196790244</td></tr><tr><th>12</th><td>A.12.LYS.H</td><td>7.935970334</td><td>117.3833925</td><td>52349928</td><td>None</td><td>7.931386607</td></tr><tr><th>13</th><td>A.13.ASP.H</td><td>8.920823721</td><td>123.45048</td><td>52872820</td><td>422263408</td><td>8.916952056</td></tr><tr><th>14</th><td>A.14.GLU.H</td><td>9.1652141</td><td>116.0726241</td><td>37481756</td><td>None</td><td>9.161371282</td></tr><tr><th>15</th><td>A.15.ASP.H</td><td>7.621412586</td><td>118.640595</td><td>36648760</td><td>None</td><td>7.618705293</td></tr><tr><th>16</th><td>A.16.CYS.H</td><td>7.968542815</td><td>113.5024552</td><td>41633688</td><td>None</td><td>7.96333783</td></tr><tr><th>17</th><td>A.17.CYS.H</td><td>8.962607841</td><td>117.0968224</td><td>13869466</td><td>None</td><td>8.957650434</td></tr><tr><th>18</th><td>A.18.LYS.H</td><td>7.700603779</td><td>117.1608456</td><td>39270796</td><td>None</td><td>7.699634402</td></tr><tr><th>19</th><td>A.19.HIS.H</td><td>8.409242032</td><td>114.1689389</td><td>38014656</td><td>None</td><td>8.401237733</td></tr><tr><th>20</th><td>A.20.LEU.H</td><td>7.96304911</td><td>118.8616054</td><td>31650544</td><td>None</td><td>7.955745431</td></tr><tr><th>21</th><td>A.21.GLY.H</td><td>8.556688739</td><td>106.075556</td><td>15147644</td><td>125038285</td><td>8.557995767</td></tr><tr><th>22</th><td>A.22.CYS.H</td><td>9.325374692</td><td>120.7829275</td><td>18519162</td><td>140200421</td><td>9.324155241</td></tr><tr><th>23</th><td>A.23.LYS.H</td><td>8.483458777</td><td>131.9212121</td><td>18492418</td><td>149561290</td><td>8.477521038</td></tr><tr><th>24</th><td>A.24.ARG.H</td><td>8.355089469</td><td>126.7342802</td><td>38418608</td><td>307746852</td><td>8.35111994</td></tr><tr><th>25</th><td>A.25.LYS.H</td><td>8.731157015</td><td>117.2447693</td><td>25040612</td><td>None</td><td>8.726070585</td></tr><tr><th>26</th><td>A.26.MET.H</td><td>7.322048157</td><td>115.5581838</td><td>12497611</td><td>105086255</td><td>7.319272944</td></tr><tr><th>27</th><td>A.27.LYS.H</td><td>7.970717462</td><td>118.1846689</td><td>30910390</td><td>None</td><td>7.964547969</td></tr><tr><th>28</th><td>A.28.TYR.H</td><td>6.648662901</td><td>110.8738157</td><td>21185948</td><td>173246404</td><td>6.642672336</td></tr><tr><th>29</th><td>A.29.CYS.H</td><td>8.850070515</td><td>119.9205112</td><td>24761696</td><td>None</td><td>8.845562254</td></tr><tr><th>30</th><td>A.30.ALA.H</td><td>9.533153711</td><td>125.9594509</td><td>22453070</td><td>175815318</td><td>9.527729843</td></tr><tr><th>&vellip;</th><td>&vellip;</td><td>&vellip;</td><td>&vellip;</td><td>&vellip;</td><td>&vellip;</td><td>&vellip;</td></tr></tbody></table>"
      ],
      "text/latex": [
       "\\begin{tabular}{r|ccccccc}\n",
       "\t& Column1 & Pn3a only & Column3 & Column4 & Column5 & Pn3a and nanodisc 0.02 & \\\\\n",
       "\t\\hline\n",
       "\t& String & String & String & String & String & String & \\\\\n",
       "\t\\hline\n",
       "\t1 & Assignment & w1a & w2a & Height & Volume & w1a & $\\dots$ \\\\\n",
       "\t2 & A.2.ASP.H & 7.606715155 & 120.5978691 & 64950712 & None & 7.600852883 & $\\dots$ \\\\\n",
       "\t3 & A.3.CYS.H & 8.236653476 & 118.297523 & 60657504 & None & 8.230251984 & $\\dots$ \\\\\n",
       "\t4 & A.4.ARG.H & 8.759817177 & 120.9770972 & 37220176 & None & 8.756704678 & $\\dots$ \\\\\n",
       "\t5 & A.5.TYR.H & 8.075478958 & 120.0486769 & 30957758 & None & 8.072959357 & $\\dots$ \\\\\n",
       "\t6 & A.6.MET.H & 7.618484737 & 119.1691744 & 30304996 & None & 7.610821253 & $\\dots$ \\\\\n",
       "\t7 & A.7.PHE.H & 8.901671221 & 120.6776159 & 29182366 & None & 8.898382228 & $\\dots$ \\\\\n",
       "\t8 & A.8.GLY.H & 8.898855353 & 110.1462503 & 19320248 & 156607495 & 8.893383802 & $\\dots$ \\\\\n",
       "\t9 & A.9.ASP.H & 8.311142143 & 122.0028218 & 41584300 & 331071502 & 8.305844895 & $\\dots$ \\\\\n",
       "\t10 & A.10.CYS.H & 7.669821554 & 113.1917275 & 37616744 & None & 7.663544703 & $\\dots$ \\\\\n",
       "\t11 & A.11.GLU.H & 9.200653267 & 116.143728 & 45560916 & None & 9.196790244 & $\\dots$ \\\\\n",
       "\t12 & A.12.LYS.H & 7.935970334 & 117.3833925 & 52349928 & None & 7.931386607 & $\\dots$ \\\\\n",
       "\t13 & A.13.ASP.H & 8.920823721 & 123.45048 & 52872820 & 422263408 & 8.916952056 & $\\dots$ \\\\\n",
       "\t14 & A.14.GLU.H & 9.1652141 & 116.0726241 & 37481756 & None & 9.161371282 & $\\dots$ \\\\\n",
       "\t15 & A.15.ASP.H & 7.621412586 & 118.640595 & 36648760 & None & 7.618705293 & $\\dots$ \\\\\n",
       "\t16 & A.16.CYS.H & 7.968542815 & 113.5024552 & 41633688 & None & 7.96333783 & $\\dots$ \\\\\n",
       "\t17 & A.17.CYS.H & 8.962607841 & 117.0968224 & 13869466 & None & 8.957650434 & $\\dots$ \\\\\n",
       "\t18 & A.18.LYS.H & 7.700603779 & 117.1608456 & 39270796 & None & 7.699634402 & $\\dots$ \\\\\n",
       "\t19 & A.19.HIS.H & 8.409242032 & 114.1689389 & 38014656 & None & 8.401237733 & $\\dots$ \\\\\n",
       "\t20 & A.20.LEU.H & 7.96304911 & 118.8616054 & 31650544 & None & 7.955745431 & $\\dots$ \\\\\n",
       "\t21 & A.21.GLY.H & 8.556688739 & 106.075556 & 15147644 & 125038285 & 8.557995767 & $\\dots$ \\\\\n",
       "\t22 & A.22.CYS.H & 9.325374692 & 120.7829275 & 18519162 & 140200421 & 9.324155241 & $\\dots$ \\\\\n",
       "\t23 & A.23.LYS.H & 8.483458777 & 131.9212121 & 18492418 & 149561290 & 8.477521038 & $\\dots$ \\\\\n",
       "\t24 & A.24.ARG.H & 8.355089469 & 126.7342802 & 38418608 & 307746852 & 8.35111994 & $\\dots$ \\\\\n",
       "\t25 & A.25.LYS.H & 8.731157015 & 117.2447693 & 25040612 & None & 8.726070585 & $\\dots$ \\\\\n",
       "\t26 & A.26.MET.H & 7.322048157 & 115.5581838 & 12497611 & 105086255 & 7.319272944 & $\\dots$ \\\\\n",
       "\t27 & A.27.LYS.H & 7.970717462 & 118.1846689 & 30910390 & None & 7.964547969 & $\\dots$ \\\\\n",
       "\t28 & A.28.TYR.H & 6.648662901 & 110.8738157 & 21185948 & 173246404 & 6.642672336 & $\\dots$ \\\\\n",
       "\t29 & A.29.CYS.H & 8.850070515 & 119.9205112 & 24761696 & None & 8.845562254 & $\\dots$ \\\\\n",
       "\t30 & A.30.ALA.H & 9.533153711 & 125.9594509 & 22453070 & 175815318 & 9.527729843 & $\\dots$ \\\\\n",
       "\t$\\dots$ & $\\dots$ & $\\dots$ & $\\dots$ & $\\dots$ & $\\dots$ & $\\dots$ &  \\\\\n",
       "\\end{tabular}\n"
      ],
      "text/plain": [
       "35×21 DataFrames.DataFrame. Omitted printing of 16 columns\n",
       "│ Row │ Column1    │ Pn3a only   │ Column3     │ Column4  │ Column5   │\n",
       "│     │ \u001b[90mString\u001b[39m     │ \u001b[90mString\u001b[39m      │ \u001b[90mString\u001b[39m      │ \u001b[90mString\u001b[39m   │ \u001b[90mString\u001b[39m    │\n",
       "├─────┼────────────┼─────────────┼─────────────┼──────────┼───────────┤\n",
       "│ 1   │ Assignment │ w1a         │ w2a         │ Height   │ Volume    │\n",
       "│ 2   │ A.2.ASP.H  │ 7.606715155 │ 120.5978691 │ 64950712 │ None      │\n",
       "│ 3   │ A.3.CYS.H  │ 8.236653476 │ 118.297523  │ 60657504 │ None      │\n",
       "│ 4   │ A.4.ARG.H  │ 8.759817177 │ 120.9770972 │ 37220176 │ None      │\n",
       "│ 5   │ A.5.TYR.H  │ 8.075478958 │ 120.0486769 │ 30957758 │ None      │\n",
       "│ 6   │ A.6.MET.H  │ 7.618484737 │ 119.1691744 │ 30304996 │ None      │\n",
       "│ 7   │ A.7.PHE.H  │ 8.901671221 │ 120.6776159 │ 29182366 │ None      │\n",
       "│ 8   │ A.8.GLY.H  │ 8.898855353 │ 110.1462503 │ 19320248 │ 156607495 │\n",
       "│ 9   │ A.9.ASP.H  │ 8.311142143 │ 122.0028218 │ 41584300 │ 331071502 │\n",
       "│ 10  │ A.10.CYS.H │ 7.669821554 │ 113.1917275 │ 37616744 │ None      │\n",
       "⋮\n",
       "│ 25  │ A.25.LYS.H │ 8.731157015 │ 117.2447693 │ 25040612 │ None      │\n",
       "│ 26  │ A.26.MET.H │ 7.322048157 │ 115.5581838 │ 12497611 │ 105086255 │\n",
       "│ 27  │ A.27.LYS.H │ 7.970717462 │ 118.1846689 │ 30910390 │ None      │\n",
       "│ 28  │ A.28.TYR.H │ 6.648662901 │ 110.8738157 │ 21185948 │ 173246404 │\n",
       "│ 29  │ A.29.CYS.H │ 8.850070515 │ 119.9205112 │ 24761696 │ None      │\n",
       "│ 30  │ A.30.ALA.H │ 9.533153711 │ 125.9594509 │ 22453070 │ 175815318 │\n",
       "│ 31  │ A.31.TRP.H │ 7.829800174 │ 122.1828496 │ 47907016 │ 391974864 │\n",
       "│ 32  │ A.32.ASP.H │ 8.38033624  │ 123.7006824 │ 27322898 │ 220234004 │\n",
       "│ 33  │ A.33.PHE.H │ 7.852132119 │ 119.2274788 │ 33323412 │ None      │\n",
       "│ 34  │ A.34.THR.H │ 7.9746551   │ 114.1480426 │ 40429660 │ None      │\n",
       "│ 35  │ A.35.PHE.H │ 7.797190203 │ 120.6621963 │ 29122498 │ None      │"
      ]
     },
     "execution_count": 2,
     "metadata": {},
     "output_type": "execute_result"
    }
   ],
   "source": [
    " ## Load data\n",
    "tit_data = CSV.read(\"Titration_GS_Scaled_edit1.csv\")"
   ]
  },
  {
   "cell_type": "code",
   "execution_count": 3,
   "metadata": {},
   "outputs": [
    {
     "data": {
      "text/html": [
       "<table class=\"data-frame\"><thead><tr><th></th><th>Column1</th><th>Pn3a only</th><th>Column3</th><th>Column4</th><th>Column5</th><th>Pn3a and nanodisc 0.02</th></tr><tr><th></th><th>String</th><th>String</th><th>String</th><th>String</th><th>String</th><th>String</th></tr></thead><tbody><p>34 rows × 21 columns (omitted printing of 15 columns)</p><tr><th>1</th><td>A.2.ASP.H</td><td>7.606715155</td><td>120.5978691</td><td>64950712</td><td>None</td><td>7.600852883</td></tr><tr><th>2</th><td>A.3.CYS.H</td><td>8.236653476</td><td>118.297523</td><td>60657504</td><td>None</td><td>8.230251984</td></tr><tr><th>3</th><td>A.4.ARG.H</td><td>8.759817177</td><td>120.9770972</td><td>37220176</td><td>None</td><td>8.756704678</td></tr><tr><th>4</th><td>A.5.TYR.H</td><td>8.075478958</td><td>120.0486769</td><td>30957758</td><td>None</td><td>8.072959357</td></tr><tr><th>5</th><td>A.6.MET.H</td><td>7.618484737</td><td>119.1691744</td><td>30304996</td><td>None</td><td>7.610821253</td></tr><tr><th>6</th><td>A.7.PHE.H</td><td>8.901671221</td><td>120.6776159</td><td>29182366</td><td>None</td><td>8.898382228</td></tr><tr><th>7</th><td>A.8.GLY.H</td><td>8.898855353</td><td>110.1462503</td><td>19320248</td><td>156607495</td><td>8.893383802</td></tr><tr><th>8</th><td>A.9.ASP.H</td><td>8.311142143</td><td>122.0028218</td><td>41584300</td><td>331071502</td><td>8.305844895</td></tr><tr><th>9</th><td>A.10.CYS.H</td><td>7.669821554</td><td>113.1917275</td><td>37616744</td><td>None</td><td>7.663544703</td></tr><tr><th>10</th><td>A.11.GLU.H</td><td>9.200653267</td><td>116.143728</td><td>45560916</td><td>None</td><td>9.196790244</td></tr><tr><th>11</th><td>A.12.LYS.H</td><td>7.935970334</td><td>117.3833925</td><td>52349928</td><td>None</td><td>7.931386607</td></tr><tr><th>12</th><td>A.13.ASP.H</td><td>8.920823721</td><td>123.45048</td><td>52872820</td><td>422263408</td><td>8.916952056</td></tr><tr><th>13</th><td>A.14.GLU.H</td><td>9.1652141</td><td>116.0726241</td><td>37481756</td><td>None</td><td>9.161371282</td></tr><tr><th>14</th><td>A.15.ASP.H</td><td>7.621412586</td><td>118.640595</td><td>36648760</td><td>None</td><td>7.618705293</td></tr><tr><th>15</th><td>A.16.CYS.H</td><td>7.968542815</td><td>113.5024552</td><td>41633688</td><td>None</td><td>7.96333783</td></tr><tr><th>16</th><td>A.17.CYS.H</td><td>8.962607841</td><td>117.0968224</td><td>13869466</td><td>None</td><td>8.957650434</td></tr><tr><th>17</th><td>A.18.LYS.H</td><td>7.700603779</td><td>117.1608456</td><td>39270796</td><td>None</td><td>7.699634402</td></tr><tr><th>18</th><td>A.19.HIS.H</td><td>8.409242032</td><td>114.1689389</td><td>38014656</td><td>None</td><td>8.401237733</td></tr><tr><th>19</th><td>A.20.LEU.H</td><td>7.96304911</td><td>118.8616054</td><td>31650544</td><td>None</td><td>7.955745431</td></tr><tr><th>20</th><td>A.21.GLY.H</td><td>8.556688739</td><td>106.075556</td><td>15147644</td><td>125038285</td><td>8.557995767</td></tr><tr><th>21</th><td>A.22.CYS.H</td><td>9.325374692</td><td>120.7829275</td><td>18519162</td><td>140200421</td><td>9.324155241</td></tr><tr><th>22</th><td>A.23.LYS.H</td><td>8.483458777</td><td>131.9212121</td><td>18492418</td><td>149561290</td><td>8.477521038</td></tr><tr><th>23</th><td>A.24.ARG.H</td><td>8.355089469</td><td>126.7342802</td><td>38418608</td><td>307746852</td><td>8.35111994</td></tr><tr><th>24</th><td>A.25.LYS.H</td><td>8.731157015</td><td>117.2447693</td><td>25040612</td><td>None</td><td>8.726070585</td></tr><tr><th>25</th><td>A.26.MET.H</td><td>7.322048157</td><td>115.5581838</td><td>12497611</td><td>105086255</td><td>7.319272944</td></tr><tr><th>26</th><td>A.27.LYS.H</td><td>7.970717462</td><td>118.1846689</td><td>30910390</td><td>None</td><td>7.964547969</td></tr><tr><th>27</th><td>A.28.TYR.H</td><td>6.648662901</td><td>110.8738157</td><td>21185948</td><td>173246404</td><td>6.642672336</td></tr><tr><th>28</th><td>A.29.CYS.H</td><td>8.850070515</td><td>119.9205112</td><td>24761696</td><td>None</td><td>8.845562254</td></tr><tr><th>29</th><td>A.30.ALA.H</td><td>9.533153711</td><td>125.9594509</td><td>22453070</td><td>175815318</td><td>9.527729843</td></tr><tr><th>30</th><td>A.31.TRP.H</td><td>7.829800174</td><td>122.1828496</td><td>47907016</td><td>391974864</td><td>7.82920399</td></tr><tr><th>&vellip;</th><td>&vellip;</td><td>&vellip;</td><td>&vellip;</td><td>&vellip;</td><td>&vellip;</td><td>&vellip;</td></tr></tbody></table>"
      ],
      "text/latex": [
       "\\begin{tabular}{r|ccccccc}\n",
       "\t& Column1 & Pn3a only & Column3 & Column4 & Column5 & Pn3a and nanodisc 0.02 & \\\\\n",
       "\t\\hline\n",
       "\t& String & String & String & String & String & String & \\\\\n",
       "\t\\hline\n",
       "\t1 & A.2.ASP.H & 7.606715155 & 120.5978691 & 64950712 & None & 7.600852883 & $\\dots$ \\\\\n",
       "\t2 & A.3.CYS.H & 8.236653476 & 118.297523 & 60657504 & None & 8.230251984 & $\\dots$ \\\\\n",
       "\t3 & A.4.ARG.H & 8.759817177 & 120.9770972 & 37220176 & None & 8.756704678 & $\\dots$ \\\\\n",
       "\t4 & A.5.TYR.H & 8.075478958 & 120.0486769 & 30957758 & None & 8.072959357 & $\\dots$ \\\\\n",
       "\t5 & A.6.MET.H & 7.618484737 & 119.1691744 & 30304996 & None & 7.610821253 & $\\dots$ \\\\\n",
       "\t6 & A.7.PHE.H & 8.901671221 & 120.6776159 & 29182366 & None & 8.898382228 & $\\dots$ \\\\\n",
       "\t7 & A.8.GLY.H & 8.898855353 & 110.1462503 & 19320248 & 156607495 & 8.893383802 & $\\dots$ \\\\\n",
       "\t8 & A.9.ASP.H & 8.311142143 & 122.0028218 & 41584300 & 331071502 & 8.305844895 & $\\dots$ \\\\\n",
       "\t9 & A.10.CYS.H & 7.669821554 & 113.1917275 & 37616744 & None & 7.663544703 & $\\dots$ \\\\\n",
       "\t10 & A.11.GLU.H & 9.200653267 & 116.143728 & 45560916 & None & 9.196790244 & $\\dots$ \\\\\n",
       "\t11 & A.12.LYS.H & 7.935970334 & 117.3833925 & 52349928 & None & 7.931386607 & $\\dots$ \\\\\n",
       "\t12 & A.13.ASP.H & 8.920823721 & 123.45048 & 52872820 & 422263408 & 8.916952056 & $\\dots$ \\\\\n",
       "\t13 & A.14.GLU.H & 9.1652141 & 116.0726241 & 37481756 & None & 9.161371282 & $\\dots$ \\\\\n",
       "\t14 & A.15.ASP.H & 7.621412586 & 118.640595 & 36648760 & None & 7.618705293 & $\\dots$ \\\\\n",
       "\t15 & A.16.CYS.H & 7.968542815 & 113.5024552 & 41633688 & None & 7.96333783 & $\\dots$ \\\\\n",
       "\t16 & A.17.CYS.H & 8.962607841 & 117.0968224 & 13869466 & None & 8.957650434 & $\\dots$ \\\\\n",
       "\t17 & A.18.LYS.H & 7.700603779 & 117.1608456 & 39270796 & None & 7.699634402 & $\\dots$ \\\\\n",
       "\t18 & A.19.HIS.H & 8.409242032 & 114.1689389 & 38014656 & None & 8.401237733 & $\\dots$ \\\\\n",
       "\t19 & A.20.LEU.H & 7.96304911 & 118.8616054 & 31650544 & None & 7.955745431 & $\\dots$ \\\\\n",
       "\t20 & A.21.GLY.H & 8.556688739 & 106.075556 & 15147644 & 125038285 & 8.557995767 & $\\dots$ \\\\\n",
       "\t21 & A.22.CYS.H & 9.325374692 & 120.7829275 & 18519162 & 140200421 & 9.324155241 & $\\dots$ \\\\\n",
       "\t22 & A.23.LYS.H & 8.483458777 & 131.9212121 & 18492418 & 149561290 & 8.477521038 & $\\dots$ \\\\\n",
       "\t23 & A.24.ARG.H & 8.355089469 & 126.7342802 & 38418608 & 307746852 & 8.35111994 & $\\dots$ \\\\\n",
       "\t24 & A.25.LYS.H & 8.731157015 & 117.2447693 & 25040612 & None & 8.726070585 & $\\dots$ \\\\\n",
       "\t25 & A.26.MET.H & 7.322048157 & 115.5581838 & 12497611 & 105086255 & 7.319272944 & $\\dots$ \\\\\n",
       "\t26 & A.27.LYS.H & 7.970717462 & 118.1846689 & 30910390 & None & 7.964547969 & $\\dots$ \\\\\n",
       "\t27 & A.28.TYR.H & 6.648662901 & 110.8738157 & 21185948 & 173246404 & 6.642672336 & $\\dots$ \\\\\n",
       "\t28 & A.29.CYS.H & 8.850070515 & 119.9205112 & 24761696 & None & 8.845562254 & $\\dots$ \\\\\n",
       "\t29 & A.30.ALA.H & 9.533153711 & 125.9594509 & 22453070 & 175815318 & 9.527729843 & $\\dots$ \\\\\n",
       "\t30 & A.31.TRP.H & 7.829800174 & 122.1828496 & 47907016 & 391974864 & 7.82920399 & $\\dots$ \\\\\n",
       "\t$\\dots$ & $\\dots$ & $\\dots$ & $\\dots$ & $\\dots$ & $\\dots$ & $\\dots$ &  \\\\\n",
       "\\end{tabular}\n"
      ],
      "text/plain": [
       "34×21 DataFrames.DataFrame. Omitted printing of 16 columns\n",
       "│ Row │ Column1    │ Pn3a only   │ Column3     │ Column4  │ Column5   │\n",
       "│     │ \u001b[90mString\u001b[39m     │ \u001b[90mString\u001b[39m      │ \u001b[90mString\u001b[39m      │ \u001b[90mString\u001b[39m   │ \u001b[90mString\u001b[39m    │\n",
       "├─────┼────────────┼─────────────┼─────────────┼──────────┼───────────┤\n",
       "│ 1   │ A.2.ASP.H  │ 7.606715155 │ 120.5978691 │ 64950712 │ None      │\n",
       "│ 2   │ A.3.CYS.H  │ 8.236653476 │ 118.297523  │ 60657504 │ None      │\n",
       "│ 3   │ A.4.ARG.H  │ 8.759817177 │ 120.9770972 │ 37220176 │ None      │\n",
       "│ 4   │ A.5.TYR.H  │ 8.075478958 │ 120.0486769 │ 30957758 │ None      │\n",
       "│ 5   │ A.6.MET.H  │ 7.618484737 │ 119.1691744 │ 30304996 │ None      │\n",
       "│ 6   │ A.7.PHE.H  │ 8.901671221 │ 120.6776159 │ 29182366 │ None      │\n",
       "│ 7   │ A.8.GLY.H  │ 8.898855353 │ 110.1462503 │ 19320248 │ 156607495 │\n",
       "│ 8   │ A.9.ASP.H  │ 8.311142143 │ 122.0028218 │ 41584300 │ 331071502 │\n",
       "│ 9   │ A.10.CYS.H │ 7.669821554 │ 113.1917275 │ 37616744 │ None      │\n",
       "│ 10  │ A.11.GLU.H │ 9.200653267 │ 116.143728  │ 45560916 │ None      │\n",
       "⋮\n",
       "│ 24  │ A.25.LYS.H │ 8.731157015 │ 117.2447693 │ 25040612 │ None      │\n",
       "│ 25  │ A.26.MET.H │ 7.322048157 │ 115.5581838 │ 12497611 │ 105086255 │\n",
       "│ 26  │ A.27.LYS.H │ 7.970717462 │ 118.1846689 │ 30910390 │ None      │\n",
       "│ 27  │ A.28.TYR.H │ 6.648662901 │ 110.8738157 │ 21185948 │ 173246404 │\n",
       "│ 28  │ A.29.CYS.H │ 8.850070515 │ 119.9205112 │ 24761696 │ None      │\n",
       "│ 29  │ A.30.ALA.H │ 9.533153711 │ 125.9594509 │ 22453070 │ 175815318 │\n",
       "│ 30  │ A.31.TRP.H │ 7.829800174 │ 122.1828496 │ 47907016 │ 391974864 │\n",
       "│ 31  │ A.32.ASP.H │ 8.38033624  │ 123.7006824 │ 27322898 │ 220234004 │\n",
       "│ 32  │ A.33.PHE.H │ 7.852132119 │ 119.2274788 │ 33323412 │ None      │\n",
       "│ 33  │ A.34.THR.H │ 7.9746551   │ 114.1480426 │ 40429660 │ None      │\n",
       "│ 34  │ A.35.PHE.H │ 7.797190203 │ 120.6621963 │ 29122498 │ None      │"
      ]
     },
     "execution_count": 3,
     "metadata": {},
     "output_type": "execute_result"
    }
   ],
   "source": [
    "# omit header for columns\n",
    "tit_Data = tit_data[2:end, :]"
   ]
  },
  {
   "cell_type": "code",
   "execution_count": 4,
   "metadata": {},
   "outputs": [
    {
     "data": {
      "text/plain": [
       "34-element Array{Float64,1}:\n",
       " 7.606715155\n",
       " 8.236653476\n",
       " 8.759817177\n",
       " 8.075478958\n",
       " 7.618484737\n",
       " 8.901671221\n",
       " 8.898855353\n",
       " 8.311142143\n",
       " 7.669821554\n",
       " 9.200653267\n",
       " 7.935970334\n",
       " 8.920823721\n",
       " 9.1652141  \n",
       " ⋮          \n",
       " 8.355089469\n",
       " 8.731157015\n",
       " 7.322048157\n",
       " 7.970717462\n",
       " 6.648662901\n",
       " 8.850070515\n",
       " 9.533153711\n",
       " 7.829800174\n",
       " 8.38033624 \n",
       " 7.852132119\n",
       " 7.9746551  \n",
       " 7.797190203"
      ]
     },
     "execution_count": 4,
     "metadata": {},
     "output_type": "execute_result"
    }
   ],
   "source": [
    "##  get control groups and define H signal column index\n",
    "control_H  = parse.(Float64, tit_Data[:, 2])"
   ]
  },
  {
   "cell_type": "code",
   "execution_count": 5,
   "metadata": {},
   "outputs": [
    {
     "data": {
      "text/plain": [
       "34-element Array{Float64,1}:\n",
       " 120.5978691\n",
       " 118.297523 \n",
       " 120.9770972\n",
       " 120.0486769\n",
       " 119.1691744\n",
       " 120.6776159\n",
       " 110.1462503\n",
       " 122.0028218\n",
       " 113.1917275\n",
       " 116.143728 \n",
       " 117.3833925\n",
       " 123.45048  \n",
       " 116.0726241\n",
       "   ⋮        \n",
       " 126.7342802\n",
       " 117.2447693\n",
       " 115.5581838\n",
       " 118.1846689\n",
       " 110.8738157\n",
       " 119.9205112\n",
       " 125.9594509\n",
       " 122.1828496\n",
       " 123.7006824\n",
       " 119.2274788\n",
       " 114.1480426\n",
       " 120.6621963"
      ]
     },
     "execution_count": 5,
     "metadata": {},
     "output_type": "execute_result"
    }
   ],
   "source": [
    "##  get control groups and define N signal column index\n",
    "control_N  = parse.(Float64, tit_Data[:, 3])"
   ]
  },
  {
   "cell_type": "code",
   "execution_count": 6,
   "metadata": {},
   "outputs": [
    {
     "data": {
      "text/plain": [
       "6:4:18"
      ]
     },
     "execution_count": 6,
     "metadata": {},
     "output_type": "execute_result"
    }
   ],
   "source": [
    "# set range for H data columns in excel file\n",
    "col_H = 6:4:21"
   ]
  },
  {
   "cell_type": "code",
   "execution_count": 7,
   "metadata": {},
   "outputs": [
    {
     "data": {
      "text/plain": [
       "7:4:19"
      ]
     },
     "execution_count": 7,
     "metadata": {},
     "output_type": "execute_result"
    }
   ],
   "source": [
    "# set range for N data columns in excel file\n",
    "col_N = 7:4:21"
   ]
  },
  {
   "cell_type": "code",
   "execution_count": 8,
   "metadata": {},
   "outputs": [
    {
     "data": {
      "text/plain": [
       "0-element Array{Any,1}"
      ]
     },
     "execution_count": 8,
     "metadata": {},
     "output_type": "execute_result"
    }
   ],
   "source": [
    "## get H signal value into list, generate an array for H signal\n",
    "H_sig = []"
   ]
  },
  {
   "cell_type": "code",
   "execution_count": 9,
   "metadata": {
    "collapsed": true
   },
   "outputs": [],
   "source": [
    "# get H signal value into list, parse H signal into this array using a for loop\n",
    "for i in col_H\n",
    "    push!(H_sig, parse.(Float64, tit_Data[:,i]))\n",
    "end"
   ]
  },
  {
   "cell_type": "code",
   "execution_count": 10,
   "metadata": {},
   "outputs": [
    {
     "data": {
      "text/plain": [
       "4-element Array{Any,1}:\n",
       " [7.600852883, 8.230251984, 8.756704678, 8.072959357, 7.610821253, 8.898382228, 8.893383802, 8.305844895, 7.663544703, 9.196790244  …  7.319272944, 7.964547969, 6.642672336, 8.845562254, 9.527729843, 7.82920399, 8.371274804, 7.848959613, 7.966528838, 7.796842328]\n",
       " [7.600659105, 8.230800941, 8.757564872, 8.075661294, 7.608742521, 8.897624279, 8.894360725, 8.305248224, 7.662447764, 9.198268653  …  7.324280256, 7.964744668, 6.640872099, 8.845311633, 9.531532463, 7.82483729, 8.360278509, 7.840727941, 7.964586432, 7.795884879]\n",
       " [7.602147495, 8.23244063, 8.760647184, 8.086704817, 7.608830647, 8.902100283, 8.895444519, 8.30606679, 7.664299123, 9.19929956  …  7.328466446, 7.966471386, 6.640235261, 8.845442969, 9.541335933, 7.827495763, 8.38245307, 7.840521991, 7.968587365, 7.807092602]   \n",
       " [7.602442788, 8.231720535, 8.76246434, 8.080755149, 7.611887276, 8.902813684, 8.895821486, 8.306013598, 7.664402829, 9.199793073  …  7.324579931, 7.967330729, 6.639375918, 8.844765963, 9.541143038, 7.765165727, 8.372964763, 7.848935512, 7.967445876, 7.803562482]"
      ]
     },
     "execution_count": 10,
     "metadata": {},
     "output_type": "execute_result"
    }
   ],
   "source": [
    "H_sig"
   ]
  },
  {
   "cell_type": "code",
   "execution_count": 11,
   "metadata": {},
   "outputs": [
    {
     "data": {
      "text/plain": [
       "0-element Array{Any,1}"
      ]
     },
     "execution_count": 11,
     "metadata": {},
     "output_type": "execute_result"
    }
   ],
   "source": [
    "## get N signal value into list, generate an array for N signal\n",
    "N_sig = []"
   ]
  },
  {
   "cell_type": "code",
   "execution_count": 12,
   "metadata": {
    "collapsed": true
   },
   "outputs": [],
   "source": [
    "# get N signal value into list, parse N signal into this array using a for loop\n",
    "for i in col_N\n",
    "    push!(N_sig, parse.(Float64, tit_Data[:,i]))\n",
    "end"
   ]
  },
  {
   "cell_type": "code",
   "execution_count": 13,
   "metadata": {},
   "outputs": [
    {
     "data": {
      "text/plain": [
       "4-element Array{Any,1}:\n",
       " [120.5639006, 118.2939615, 120.956466, 120.0647488, 119.1286409, 120.6554029, 110.1275657, 121.9707833, 113.1976496, 116.168015  …  115.5425628, 118.1632311, 110.8813453, 119.9161052, 126.0005558, 122.1822814, 123.7559786, 119.140401, 114.1397923, 120.7110466]  \n",
       " [120.5355051, 118.2831936, 120.9268999, 120.0583601, 119.0813602, 120.6401155, 110.1073844, 121.9431306, 113.1834402, 116.170358  …  115.5787661, 118.1406163, 110.8833631, 119.8966215, 126.0194751, 122.0984578, 123.7306023, 119.0781571, 114.1005106, 120.7540145]\n",
       " [120.510491, 118.2792403, 120.9247306, 120.0340842, 119.1427689, 120.6181363, 110.1089624, 121.9258974, 113.176149, 116.1655741  …  115.5512732, 118.1491668, 110.9026556, 119.8864393, 126.09629, 122.1633923, 123.8127494, 119.1149988, 114.1594673, 120.7853462]   \n",
       " [120.4890837, 118.2742329, 120.8906458, 120.0953312, 119.1356384, 120.6187137, 110.0259959, 121.9144117, 113.1902012, 116.1531516  …  115.5604122, 118.1478475, 110.8972841, 119.8891879, 126.0925644, 122.0660879, 123.7330377, 119.196999, 114.1891831, 120.7417805]"
      ]
     },
     "execution_count": 13,
     "metadata": {},
     "output_type": "execute_result"
    }
   ],
   "source": [
    "N_sig"
   ]
  },
  {
   "cell_type": "code",
   "execution_count": 14,
   "metadata": {
    "collapsed": true
   },
   "outputs": [],
   "source": [
    " ## calculate delta H and delta N for each ligand conc\n",
    "Delta_H = []\n",
    "Delta_N = []\n",
    "for i in 1:4\n",
    "    push!(Delta_H, control_H .- H_sig[i])\n",
    "    push!(Delta_N, control_N .- N_sig[i])\n",
    "end"
   ]
  },
  {
   "cell_type": "code",
   "execution_count": 15,
   "metadata": {},
   "outputs": [
    {
     "data": {
      "text/plain": [
       "0.15"
      ]
     },
     "execution_count": 15,
     "metadata": {},
     "output_type": "execute_result"
    }
   ],
   "source": [
    "## set alpha\n",
    "alpha = 0.15"
   ]
  },
  {
   "cell_type": "code",
   "execution_count": 16,
   "metadata": {
    "collapsed": true
   },
   "outputs": [],
   "source": [
    "## euclidan distance d for all residues and all ligand concentrations \n",
    "d_all = []\n",
    "for i in 1:4\n",
    "    push!(d_all, sqrt.(0.5 .*(Delta_H[i].^2 .+ alpha.*(Delta_N[i].^2))))\n",
    "end"
   ]
  },
  {
   "cell_type": "code",
   "execution_count": 17,
   "metadata": {},
   "outputs": [
    {
     "data": {
      "text/plain": [
       "4-element Array{Any,1}:\n",
       " [0.010184426391296804, 0.004630428822666969, 0.0060636050350011605, 0.0047483831269548235, 0.012352604590851886, 0.006512683022538119, 0.006415021898621861, 0.009540195456884676, 0.004725439066251525, 0.007190330383526561  …  0.004706599268333373, 0.0073143534985346936, 0.004711215365659129, 0.00340854387122442, 0.01189244013403118, 0.00044936791599787255, 0.01644323694635735, 0.023952518471406257, 0.006174392747717534, 0.013380466892621797]\n",
       " [0.017607754200955613, 0.005703153582896386, 0.013839042902358626, 0.0026549859465625743, 0.025016103122154916, 0.010661138296999906, 0.011108226867505374, 0.016870005702349627, 0.005686593011530693, 0.007485316256811592  …  0.005853500104181462, 0.012782194709447227, 0.006097930912088395, 0.007357126572362329, 0.016478230076733408, 0.023376554533156162, 0.016379753283700726, 0.04168093562703013, 0.014836976256873762, 0.02516238411230886]   \n",
       " [0.024146463217384177, 0.005826089568193674, 0.014353188338380337, 0.008887123952140249, 0.009944571842610668, 0.016291984480472255, 0.010492661996299285, 0.021370115879176286, 0.005783627472757911, 0.006058891624025786  …  0.004917209195342197, 0.010175682460142272, 0.00989409143810511, 0.009888082155393522, 0.03791892436619799, 0.005572175901316083, 0.030727291148088302, 0.03187912822033057, 0.005310177659162576, 0.03444518969650728]      \n",
       " [0.029944887775351196, 0.0072697393560902865, 0.02374957006182006, 0.013310367157632882, 0.010301116105706769, 0.016151247574606533, 0.03300282152239383, 0.02448217556834604, 0.003854349450888214, 0.0026514683914436728  …  0.0018913942702511938, 0.010364417135260725, 0.009188659396949031, 0.009362441998600288, 0.036889767742903375, 0.0557790548818693, 0.010280284258592827, 0.008647861802734962, 0.012366366113770762, 0.02225592812151206]     "
      ]
     },
     "execution_count": 17,
     "metadata": {},
     "output_type": "execute_result"
    }
   ],
   "source": [
    "d_all"
   ]
  },
  {
   "cell_type": "code",
   "execution_count": 18,
   "metadata": {},
   "outputs": [
    {
     "data": {
      "text/plain": [
       "34-element Array{Float64,1}:\n",
       " 0.010184426391296804  \n",
       " 0.004630428822666969  \n",
       " 0.0060636050350011605 \n",
       " 0.0047483831269548235 \n",
       " 0.012352604590851886  \n",
       " 0.006512683022538119  \n",
       " 0.006415021898621861  \n",
       " 0.009540195456884676  \n",
       " 0.004725439066251525  \n",
       " 0.007190330383526561  \n",
       " 0.0060165611174697875 \n",
       " 0.002966954353560852  \n",
       " 0.0029401527330332037 \n",
       " ⋮                     \n",
       " 0.0055527612435555904 \n",
       " 0.00460057680595069   \n",
       " 0.004706599268333373  \n",
       " 0.0073143534985346936 \n",
       " 0.004711215365659129  \n",
       " 0.00340854387122442   \n",
       " 0.01189244013403118   \n",
       " 0.00044936791599787255\n",
       " 0.01644323694635735   \n",
       " 0.023952518471406257  \n",
       " 0.006174392747717534  \n",
       " 0.013380466892621797  "
      ]
     },
     "execution_count": 18,
     "metadata": {},
     "output_type": "execute_result"
    }
   ],
   "source": [
    "d_all_tit1 = broadcast(abs, d_all[1,1])"
   ]
  },
  {
   "cell_type": "code",
   "execution_count": 19,
   "metadata": {
    "collapsed": true
   },
   "outputs": [],
   "source": [
    "writedlm(\"./d_all_tit1.csv\", d_all_tit1);"
   ]
  },
  {
   "cell_type": "code",
   "execution_count": 20,
   "metadata": {},
   "outputs": [
    {
     "data": {
      "text/plain": [
       "34-element Array{Float64,1}:\n",
       " 0.017607754200955613 \n",
       " 0.005703153582896386 \n",
       " 0.013839042902358626 \n",
       " 0.0026549859465625743\n",
       " 0.025016103122154916 \n",
       " 0.010661138296999906 \n",
       " 0.011108226867505374 \n",
       " 0.016870005702349627 \n",
       " 0.005686593011530693 \n",
       " 0.007485316256811592 \n",
       " 0.005539701649598966 \n",
       " 0.0024661573567558515\n",
       " 0.007911800463471947 \n",
       " ⋮                    \n",
       " 0.0069208238310006194\n",
       " 0.00461691360584012  \n",
       " 0.005853500104181462 \n",
       " 0.012782194709447227 \n",
       " 0.006097930912088395 \n",
       " 0.007357126572362329 \n",
       " 0.016478230076733408 \n",
       " 0.023376554533156162 \n",
       " 0.016379753283700726 \n",
       " 0.04168093562703013  \n",
       " 0.014836976256873762 \n",
       " 0.02516238411230886  "
      ]
     },
     "execution_count": 20,
     "metadata": {},
     "output_type": "execute_result"
    }
   ],
   "source": [
    "d_all_tit2 = broadcast(abs, d_all[2,1])"
   ]
  },
  {
   "cell_type": "code",
   "execution_count": 21,
   "metadata": {
    "collapsed": true
   },
   "outputs": [],
   "source": [
    "writedlm(\"./d_all_tit2.csv\", d_all_tit2);"
   ]
  },
  {
   "cell_type": "code",
   "execution_count": 22,
   "metadata": {},
   "outputs": [
    {
     "data": {
      "text/plain": [
       "34-element Array{Float64,1}:\n",
       " 0.024146463217384177  \n",
       " 0.005826089568193674  \n",
       " 0.014353188338380337  \n",
       " 0.008887123952140249  \n",
       " 0.009944571842610668  \n",
       " 0.016291984480472255  \n",
       " 0.010492661996299285  \n",
       " 0.021370115879176286  \n",
       " 0.005783627472757911  \n",
       " 0.006058891624025786  \n",
       " 0.008951057243586174  \n",
       " 0.003798110409170977  \n",
       " 0.00038216188559367977\n",
       " ⋮                     \n",
       " 0.011551983301044472  \n",
       " 0.00349572254179723   \n",
       " 0.004917209195342197  \n",
       " 0.010175682460142272  \n",
       " 0.00989409143810511   \n",
       " 0.009888082155393522  \n",
       " 0.03791892436619799   \n",
       " 0.005572175901316083  \n",
       " 0.030727291148088302  \n",
       " 0.03187912822033057   \n",
       " 0.005310177659162576  \n",
       " 0.03444518969650728   "
      ]
     },
     "execution_count": 22,
     "metadata": {},
     "output_type": "execute_result"
    }
   ],
   "source": [
    "d_all_tit3 = broadcast(abs, d_all[3,1])"
   ]
  },
  {
   "cell_type": "code",
   "execution_count": 23,
   "metadata": {
    "collapsed": true
   },
   "outputs": [],
   "source": [
    "writedlm(\"./d_all_tit3.csv\", d_all_tit3);"
   ]
  },
  {
   "cell_type": "code",
   "execution_count": 24,
   "metadata": {},
   "outputs": [
    {
     "data": {
      "text/plain": [
       "34-element Array{Float64,1}:\n",
       " 0.029944887775351196 \n",
       " 0.0072697393560902865\n",
       " 0.02374957006182006  \n",
       " 0.013310367157632882 \n",
       " 0.010301116105706769 \n",
       " 0.016151247574606533 \n",
       " 0.03300282152239383  \n",
       " 0.02448217556834604  \n",
       " 0.003854349450888214 \n",
       " 0.0026514683914436728\n",
       " 0.005685855682560374 \n",
       " 0.0013290496697113802\n",
       " 0.00322606656649104  \n",
       " ⋮                    \n",
       " 0.015315532052643006 \n",
       " 0.006068679032568206 \n",
       " 0.0018913942702511938\n",
       " 0.010364417135260725 \n",
       " 0.009188659396949031 \n",
       " 0.009362441998600288 \n",
       " 0.036889767742903375 \n",
       " 0.0557790548818693   \n",
       " 0.010280284258592827 \n",
       " 0.008647861802734962 \n",
       " 0.012366366113770762 \n",
       " 0.02225592812151206  "
      ]
     },
     "execution_count": 24,
     "metadata": {},
     "output_type": "execute_result"
    }
   ],
   "source": [
    "d_all_tit4 = broadcast(abs, d_all[4,1])"
   ]
  },
  {
   "cell_type": "code",
   "execution_count": 25,
   "metadata": {
    "collapsed": true
   },
   "outputs": [],
   "source": [
    "writedlm(\"./d_all_tit4.csv\", d_all_tit4);"
   ]
  },
  {
   "cell_type": "code",
   "execution_count": null,
   "metadata": {
    "collapsed": true
   },
   "outputs": [],
   "source": []
  },
  {
   "cell_type": "code",
   "execution_count": 22,
   "metadata": {
    "collapsed": true
   },
   "outputs": [],
   "source": [
    "p0 = [2.0, 100.0] # p1 is starting value of dmax and p2 is binding constant's initial value\n",
    "xdatanmr = [0.6, 1.2, 1.8, 2.4] # ligand concentration’s \n",
    "n = 1.71 # no of binding sites\n",
    "Pt = 30.0 # protein concentration \n",
    "kd_all_res = []\n",
    "    @. m(x, p) = p[1] *(Pt*n + p[2] + x  - sqrt(complex(Pt*n + p[2]+ x)^2 - 4*Pt*x*n))/(2*Pt*n)\n",
    "    for i in 1:34\n",
    "        ydatanmr = [d_all[1][i], d_all[2][i], d_all[3][i], d_all[4][i]]\n",
    "        fit2 = curve_fit(m, xdatanmr, ydatanmr, p0)\n",
    "        push!(kd_all_res, fit2.param)\n",
    "    end  "
   ]
  },
  {
   "cell_type": "code",
   "execution_count": 23,
   "metadata": {},
   "outputs": [
    {
     "data": {
      "text/plain": [
       "34-element Array{Any,1}:\n",
       " [1.345545102726482, 49.615518764356956] \n",
       " [0.355028715424975, 49.74098295280934]  \n",
       " [0.9871605710519725, 51.117017931278]   \n",
       " [118.16707094370884, 23590.390152692846]\n",
       " [0.7568079478846521, 49.631679941716364]\n",
       " [0.7992676503850427, 49.479001000703875]\n",
       " [781.5945835963719, 73175.24331872011]  \n",
       " [1.1623247287477787, 49.57272495777648] \n",
       " [0.2769292167134608, 49.58035617805962] \n",
       " [0.28900402527971225, 49.61093309582115]\n",
       " [0.37777832178600035, 49.56650198357861]\n",
       " [0.1394972478494449, 49.5702580296041]  \n",
       " [0.1863124467696724, 49.72454452704889] \n",
       " ⋮                                       \n",
       " [0.6571317642043892, 50.27199833000768] \n",
       " [0.2760272114870549, 49.880554596220286]\n",
       " [0.2197522685804714, 49.63065116391909] \n",
       " [0.5942311495876894, 49.61159251209741] \n",
       " [0.47187954374332947, 49.57510553244362]\n",
       " [0.4819187914728976, 49.43502004458895] \n",
       " [1.723326961447384, 49.02000437308133]  \n",
       " [5141.45010535672, 322367.5427144923]   \n",
       " [1.0332887001230504, 49.478394842502155]\n",
       " [1.3468110486518283, 49.54104452864261] \n",
       " [0.5744784931999095, 49.76284239632633] \n",
       " [1.4485826729193165, 49.450702717322976]"
      ]
     },
     "execution_count": 23,
     "metadata": {},
     "output_type": "execute_result"
    }
   ],
   "source": [
    "return kd_all_res"
   ]
  },
  {
   "cell_type": "code",
   "execution_count": 49,
   "metadata": {},
   "outputs": [
    {
     "data": {
      "text/plain": [
       "([1002.045238103284, 66508.86170960941], 30)"
      ]
     },
     "execution_count": 49,
     "metadata": {},
     "output_type": "execute_result"
    }
   ],
   "source": [
    "findmax(kd_all_res)"
   ]
  },
  {
   "cell_type": "code",
   "execution_count": 25,
   "metadata": {
    "collapsed": true
   },
   "outputs": [],
   "source": [
    "writedlm(\"./kd_all_res_singleFit.csv\", kd_all_res);"
   ]
  },
  {
   "cell_type": "code",
   "execution_count": null,
   "metadata": {
    "collapsed": true
   },
   "outputs": [],
   "source": []
  }
 ],
 "metadata": {
  "kernelspec": {
   "display_name": "Julia 1.2.0",
   "language": "julia",
   "name": "julia-1.2"
  },
  "language_info": {
   "file_extension": ".jl",
   "mimetype": "application/julia",
   "name": "julia",
   "version": "1.2.0"
  }
 },
 "nbformat": 4,
 "nbformat_minor": 2
}
